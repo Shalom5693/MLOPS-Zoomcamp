{
 "cells": [
  {
   "cell_type": "code",
   "execution_count": 1,
   "id": "4c4bfdb9-8330-4798-aad8-53bef539333c",
   "metadata": {},
   "outputs": [
    {
     "name": "stdout",
     "output_type": "stream",
     "text": [
      "Python 3.11.7\n"
     ]
    }
   ],
   "source": [
    "!python -V"
   ]
  },
  {
   "cell_type": "code",
   "execution_count": 2,
   "id": "207b098c-68be-4749-85e7-f0fb80bd79dd",
   "metadata": {},
   "outputs": [],
   "source": [
    "import pandas as pd\n",
    "\n",
    "import seaborn as sns\n",
    "import matplotlib.pyplot as plt\n",
    "import pickle"
   ]
  },
  {
   "cell_type": "code",
   "execution_count": 3,
   "id": "824577bd-e55b-44ce-96cb-f6eec523e817",
   "metadata": {},
   "outputs": [],
   "source": [
    "from sklearn.feature_extraction import DictVectorizer\n",
    "from sklearn.linear_model import LinearRegression\n",
    "from sklearn.linear_model import Lasso\n",
    "from sklearn.linear_model import Ridge\n",
    "\n",
    "from sklearn.metrics import mean_squared_error"
   ]
  },
  {
   "cell_type": "code",
   "execution_count": 4,
   "id": "5017e4c1-ede1-4e14-8022-f9c5bfd1555a",
   "metadata": {},
   "outputs": [],
   "source": [
    "df = pd.read_parquet(r'./data/yellow_tripdata_2023-01.parquet')"
   ]
  },
  {
   "cell_type": "code",
   "execution_count": 25,
   "id": "839b15d8-76d3-4292-ad10-70a87a7372e0",
   "metadata": {},
   "outputs": [],
   "source": [
    "df.head()\n",
    "\n",
    "df[\"lpep_pickup_datetime\"] = pd.to_datetime(df[\"tpep_pickup_datetime\"])\n",
    "df[\"lpep_dropoff_datetime\"] = pd.to_datetime(df[\"tpep_dropoff_datetime\"])\n",
    "        \n",
    "df['duration'] = df[\"lpep_dropoff_datetime\"] - df[\"lpep_pickup_datetime\"] \n",
    "        \n",
    "df.duration = df.duration.apply(lambda x : x.total_seconds()/60)"
   ]
  },
  {
   "cell_type": "code",
   "execution_count": 27,
   "id": "2d09e3d3-b9b1-49ac-8746-4166fa59042d",
   "metadata": {},
   "outputs": [
    {
     "data": {
      "text/plain": [
       "42.594351241920904"
      ]
     },
     "execution_count": 27,
     "metadata": {},
     "output_type": "execute_result"
    }
   ],
   "source": [
    "df.duration.std()"
   ]
  },
  {
   "cell_type": "code",
   "execution_count": 36,
   "id": "72989bcc-93cb-4ccc-817d-e62d9b77a1d0",
   "metadata": {},
   "outputs": [
    {
     "data": {
      "text/plain": [
       "count    3066766.0\n",
       "mean          16.0\n",
       "std           43.0\n",
       "min          -29.0\n",
       "50%           12.0\n",
       "95%           36.0\n",
       "98%           49.0\n",
       "99%           57.0\n",
       "max        10029.0\n",
       "Name: duration, dtype: float64"
      ]
     },
     "execution_count": 36,
     "metadata": {},
     "output_type": "execute_result"
    }
   ],
   "source": [
    "df.duration.describe(percentiles = [0.95,0.98,0.99]).round()"
   ]
  },
  {
   "cell_type": "code",
   "execution_count": 37,
   "id": "186b5b31-16b5-4c9c-9500-3b7b9fa699e0",
   "metadata": {},
   "outputs": [],
   "source": [
    "dff = df[(df.duration >=1) & (df.duration <=60)]"
   ]
  },
  {
   "cell_type": "code",
   "execution_count": 40,
   "id": "4649cc32-6b8d-4847-a92b-85a53a488739",
   "metadata": {},
   "outputs": [
    {
     "name": "stderr",
     "output_type": "stream",
     "text": [
      "/tmp/ipykernel_2532/3519888148.py:1: FutureWarning: Series.__getitem__ treating keys as positions is deprecated. In a future version, integer keys will always be treated as labels (consistent with DataFrame behavior). To access a value by position, use `ser.iloc[pos]`\n",
      "  dff.count()[0]/df.count()[0]\n",
      "/tmp/ipykernel_2532/3519888148.py:1: FutureWarning: Series.__getitem__ treating keys as positions is deprecated. In a future version, integer keys will always be treated as labels (consistent with DataFrame behavior). To access a value by position, use `ser.iloc[pos]`\n",
      "  dff.count()[0]/df.count()[0]\n"
     ]
    },
    {
     "data": {
      "text/plain": [
       "0.9812202822125979"
      ]
     },
     "execution_count": 40,
     "metadata": {},
     "output_type": "execute_result"
    }
   ],
   "source": [
    "dff.count()[0]/df.count()[0]"
   ]
  },
  {
   "cell_type": "code",
   "execution_count": 41,
   "id": "85596dab-845b-45ab-985b-0615e37d7e89",
   "metadata": {},
   "outputs": [
    {
     "data": {
      "text/plain": [
       "count    3009173.0\n",
       "mean          14.0\n",
       "std           10.0\n",
       "min            1.0\n",
       "25%            7.0\n",
       "50%           12.0\n",
       "75%           18.0\n",
       "max           60.0\n",
       "Name: duration, dtype: float64"
      ]
     },
     "execution_count": 41,
     "metadata": {},
     "output_type": "execute_result"
    }
   ],
   "source": [
    "dff.duration.describe().round()"
   ]
  },
  {
   "cell_type": "code",
   "execution_count": 6,
   "id": "9811c508-8e38-4168-8228-abc6932e8773",
   "metadata": {},
   "outputs": [
    {
     "data": {
      "text/plain": [
       "19"
      ]
     },
     "execution_count": 6,
     "metadata": {},
     "output_type": "execute_result"
    }
   ],
   "source": [
    "len(df.columns)"
   ]
  },
  {
   "cell_type": "code",
   "execution_count": 42,
   "id": "ddc8e297-76ec-467c-a30b-d0e0de9f10e6",
   "metadata": {},
   "outputs": [],
   "source": [
    "def read_dataframe(file_name):\n",
    "    df = pd.read_parquet(file_name)\n",
    "    df[\"lpep_pickup_datetime\"] = pd.to_datetime(df[\"tpep_pickup_datetime\"])\n",
    "    df[\"lpep_dropoff_datetime\"] = pd.to_datetime(df[\"tpep_dropoff_datetime\"])\n",
    "    \n",
    "    df['duration'] = df[\"lpep_dropoff_datetime\"] - df[\"lpep_pickup_datetime\"] \n",
    "    \n",
    "    df.duration = df.duration.apply(lambda x : x.total_seconds()/60)\n",
    "    \n",
    "    df = df[(df.duration >=1) & (df.duration <= 60)]\n",
    "    \n",
    "    categorical = [\"PULocationID\",\"DOLocationID\"]\n",
    "    \n",
    "    numerical = [\"trip_distance\"]\n",
    "    \n",
    "    df[categorical] = df[categorical].astype(str)\n",
    "    df[\"PU_DO\"] = df[\"PULocationID\"] +\"_\" + df[\"DOLocationID\"]\n",
    "\n",
    "    return df\n",
    "\n",
    "\n"
   ]
  },
  {
   "cell_type": "code",
   "execution_count": 43,
   "id": "9891837d-744a-4e1e-854d-ead39825e139",
   "metadata": {},
   "outputs": [],
   "source": [
    "df_train = read_dataframe(r'./data/yellow_tripdata_2023-01.parquet')\n",
    "df_val = read_dataframe(r'./data/yellow_tripdata_2023-02.parquet')"
   ]
  },
  {
   "cell_type": "code",
   "execution_count": 17,
   "id": "71c1e27f-4227-4c3f-b059-c57cf0fa24dc",
   "metadata": {},
   "outputs": [
    {
     "name": "stderr",
     "output_type": "stream",
     "text": [
      "/tmp/ipykernel_2532/55724668.py:1: UserWarning: \n",
      "\n",
      "`distplot` is a deprecated function and will be removed in seaborn v0.14.0.\n",
      "\n",
      "Please adapt your code to use either `displot` (a figure-level function with\n",
      "similar flexibility) or `histplot` (an axes-level function for histograms).\n",
      "\n",
      "For a guide to updating your code to use the new functions, please see\n",
      "https://gist.github.com/mwaskom/de44147ed2974457ad6372750bbe5751\n",
      "\n",
      "  sns.distplot(df_train.duration)\n",
      "/home/ubuntu/anaconda3/lib/python3.11/site-packages/seaborn/_oldcore.py:1119: FutureWarning: use_inf_as_na option is deprecated and will be removed in a future version. Convert inf values to NaN before operating instead.\n",
      "  with pd.option_context('mode.use_inf_as_na', True):\n"
     ]
    },
    {
     "data": {
      "text/plain": [
       "<Axes: xlabel='duration', ylabel='Density'>"
      ]
     },
     "execution_count": 17,
     "metadata": {},
     "output_type": "execute_result"
    },
    {
     "data": {
      "image/png": "[encoded data removed]",
      "text/plain": [
       "<Figure size 640x480 with 1 Axes>"
      ]
     },
     "metadata": {},
     "output_type": "display_data"
    }
   ],
   "source": [
    "sns.distplot(df_train.duration)"
   ]
  },
  {
   "cell_type": "code",
   "execution_count": 44,
   "id": "0d307335-a7ef-4753-8a17-15a718b05922",
   "metadata": {},
   "outputs": [
    {
     "data": {
      "text/plain": [
       "count    3009173.0\n",
       "mean          14.0\n",
       "std           10.0\n",
       "min            1.0\n",
       "25%            7.0\n",
       "50%           12.0\n",
       "75%           18.0\n",
       "max           60.0\n",
       "Name: duration, dtype: float64"
      ]
     },
     "execution_count": 44,
     "metadata": {},
     "output_type": "execute_result"
    }
   ],
   "source": [
    "df_train.duration.describe().round()"
   ]
  },
  {
   "cell_type": "code",
   "execution_count": 45,
   "id": "83828a87-d9a7-4a91-976b-441549d214f8",
   "metadata": {},
   "outputs": [
    {
     "data": {
      "text/plain": [
       "count    3009173.0\n",
       "mean          14.0\n",
       "std           10.0\n",
       "min            1.0\n",
       "50%           12.0\n",
       "95%           35.0\n",
       "98%           44.0\n",
       "99%           50.0\n",
       "max           60.0\n",
       "Name: duration, dtype: float64"
      ]
     },
     "execution_count": 45,
     "metadata": {},
     "output_type": "execute_result"
    }
   ],
   "source": [
    "df_train.duration.describe(percentiles = [0.95,0.98,0.99]).round()"
   ]
  },
  {
   "cell_type": "code",
   "execution_count": 46,
   "id": "8996ac99-1448-4f6c-876d-a12813ab955d",
   "metadata": {},
   "outputs": [
    {
     "data": {
      "text/plain": [
       "9.939385620145579"
      ]
     },
     "execution_count": 46,
     "metadata": {},
     "output_type": "execute_result"
    }
   ],
   "source": [
    "df_train.duration.std()"
   ]
  },
  {
   "cell_type": "code",
   "execution_count": 14,
   "id": "67d90b88-a039-4338-936f-8dc49ffc6fa7",
   "metadata": {},
   "outputs": [
    {
     "data": {
      "text/plain": [
       "(3009173, 2855951)"
      ]
     },
     "execution_count": 14,
     "metadata": {},
     "output_type": "execute_result"
    }
   ],
   "source": [
    "len(df_train),len(df_val)"
   ]
  },
  {
   "cell_type": "code",
   "execution_count": 11,
   "id": "49a6c264-f7b4-499f-8b3d-6aa32b6e1e32",
   "metadata": {},
   "outputs": [
    {
     "data": {
      "text/html": [
       "<div>\n",
       "<style scoped>\n",
       "    .dataframe tbody tr th:only-of-type {\n",
       "        vertical-align: middle;\n",
       "    }\n",
       "\n",
       "    .dataframe tbody tr th {\n",
       "        vertical-align: top;\n",
       "    }\n",
       "\n",
       "    .dataframe thead th {\n",
       "        text-align: right;\n",
       "    }\n",
       "</style>\n",
       "<table border=\"1\" class=\"dataframe\">\n",
       "  <thead>\n",
       "    <tr style=\"text-align: right;\">\n",
       "      <th></th>\n",
       "      <th>VendorID</th>\n",
       "      <th>tpep_pickup_datetime</th>\n",
       "      <th>tpep_dropoff_datetime</th>\n",
       "      <th>passenger_count</th>\n",
       "      <th>trip_distance</th>\n",
       "      <th>RatecodeID</th>\n",
       "      <th>store_and_fwd_flag</th>\n",
       "      <th>PULocationID</th>\n",
       "      <th>DOLocationID</th>\n",
       "      <th>payment_type</th>\n",
       "      <th>...</th>\n",
       "      <th>tip_amount</th>\n",
       "      <th>tolls_amount</th>\n",
       "      <th>improvement_surcharge</th>\n",
       "      <th>total_amount</th>\n",
       "      <th>congestion_surcharge</th>\n",
       "      <th>Airport_fee</th>\n",
       "      <th>lpep_pickup_datetime</th>\n",
       "      <th>lpep_dropoff_datetime</th>\n",
       "      <th>duration</th>\n",
       "      <th>PU_DO</th>\n",
       "    </tr>\n",
       "  </thead>\n",
       "  <tbody>\n",
       "    <tr>\n",
       "      <th>0</th>\n",
       "      <td>1</td>\n",
       "      <td>2023-02-01 00:32:53</td>\n",
       "      <td>2023-02-01 00:34:34</td>\n",
       "      <td>2.0</td>\n",
       "      <td>0.30</td>\n",
       "      <td>1.0</td>\n",
       "      <td>N</td>\n",
       "      <td>142</td>\n",
       "      <td>163</td>\n",
       "      <td>2</td>\n",
       "      <td>...</td>\n",
       "      <td>0.00</td>\n",
       "      <td>0.0</td>\n",
       "      <td>1.0</td>\n",
       "      <td>9.40</td>\n",
       "      <td>2.5</td>\n",
       "      <td>0.00</td>\n",
       "      <td>2023-02-01 00:32:53</td>\n",
       "      <td>2023-02-01 00:34:34</td>\n",
       "      <td>1.683333</td>\n",
       "      <td>142_163</td>\n",
       "    </tr>\n",
       "    <tr>\n",
       "      <th>3</th>\n",
       "      <td>1</td>\n",
       "      <td>2023-02-01 00:29:33</td>\n",
       "      <td>2023-02-01 01:01:38</td>\n",
       "      <td>0.0</td>\n",
       "      <td>18.80</td>\n",
       "      <td>1.0</td>\n",
       "      <td>N</td>\n",
       "      <td>132</td>\n",
       "      <td>26</td>\n",
       "      <td>1</td>\n",
       "      <td>...</td>\n",
       "      <td>0.00</td>\n",
       "      <td>0.0</td>\n",
       "      <td>1.0</td>\n",
       "      <td>74.65</td>\n",
       "      <td>0.0</td>\n",
       "      <td>1.25</td>\n",
       "      <td>2023-02-01 00:29:33</td>\n",
       "      <td>2023-02-01 01:01:38</td>\n",
       "      <td>32.083333</td>\n",
       "      <td>132_26</td>\n",
       "    </tr>\n",
       "    <tr>\n",
       "      <th>4</th>\n",
       "      <td>2</td>\n",
       "      <td>2023-02-01 00:12:28</td>\n",
       "      <td>2023-02-01 00:25:46</td>\n",
       "      <td>1.0</td>\n",
       "      <td>3.22</td>\n",
       "      <td>1.0</td>\n",
       "      <td>N</td>\n",
       "      <td>161</td>\n",
       "      <td>145</td>\n",
       "      <td>1</td>\n",
       "      <td>...</td>\n",
       "      <td>3.30</td>\n",
       "      <td>0.0</td>\n",
       "      <td>1.0</td>\n",
       "      <td>25.30</td>\n",
       "      <td>2.5</td>\n",
       "      <td>0.00</td>\n",
       "      <td>2023-02-01 00:12:28</td>\n",
       "      <td>2023-02-01 00:25:46</td>\n",
       "      <td>13.300000</td>\n",
       "      <td>161_145</td>\n",
       "    </tr>\n",
       "    <tr>\n",
       "      <th>5</th>\n",
       "      <td>1</td>\n",
       "      <td>2023-02-01 00:52:40</td>\n",
       "      <td>2023-02-01 01:07:18</td>\n",
       "      <td>1.0</td>\n",
       "      <td>5.10</td>\n",
       "      <td>1.0</td>\n",
       "      <td>N</td>\n",
       "      <td>148</td>\n",
       "      <td>236</td>\n",
       "      <td>1</td>\n",
       "      <td>...</td>\n",
       "      <td>5.35</td>\n",
       "      <td>0.0</td>\n",
       "      <td>1.0</td>\n",
       "      <td>32.25</td>\n",
       "      <td>2.5</td>\n",
       "      <td>0.00</td>\n",
       "      <td>2023-02-01 00:52:40</td>\n",
       "      <td>2023-02-01 01:07:18</td>\n",
       "      <td>14.633333</td>\n",
       "      <td>148_236</td>\n",
       "    </tr>\n",
       "    <tr>\n",
       "      <th>6</th>\n",
       "      <td>1</td>\n",
       "      <td>2023-02-01 00:12:39</td>\n",
       "      <td>2023-02-01 00:40:36</td>\n",
       "      <td>1.0</td>\n",
       "      <td>8.90</td>\n",
       "      <td>1.0</td>\n",
       "      <td>N</td>\n",
       "      <td>137</td>\n",
       "      <td>244</td>\n",
       "      <td>1</td>\n",
       "      <td>...</td>\n",
       "      <td>3.50</td>\n",
       "      <td>0.0</td>\n",
       "      <td>1.0</td>\n",
       "      <td>50.00</td>\n",
       "      <td>2.5</td>\n",
       "      <td>0.00</td>\n",
       "      <td>2023-02-01 00:12:39</td>\n",
       "      <td>2023-02-01 00:40:36</td>\n",
       "      <td>27.950000</td>\n",
       "      <td>137_244</td>\n",
       "    </tr>\n",
       "    <tr>\n",
       "      <th>...</th>\n",
       "      <td>...</td>\n",
       "      <td>...</td>\n",
       "      <td>...</td>\n",
       "      <td>...</td>\n",
       "      <td>...</td>\n",
       "      <td>...</td>\n",
       "      <td>...</td>\n",
       "      <td>...</td>\n",
       "      <td>...</td>\n",
       "      <td>...</td>\n",
       "      <td>...</td>\n",
       "      <td>...</td>\n",
       "      <td>...</td>\n",
       "      <td>...</td>\n",
       "      <td>...</td>\n",
       "      <td>...</td>\n",
       "      <td>...</td>\n",
       "      <td>...</td>\n",
       "      <td>...</td>\n",
       "      <td>...</td>\n",
       "      <td>...</td>\n",
       "    </tr>\n",
       "    <tr>\n",
       "      <th>2913950</th>\n",
       "      <td>2</td>\n",
       "      <td>2023-02-28 23:46:00</td>\n",
       "      <td>2023-03-01 00:05:00</td>\n",
       "      <td>NaN</td>\n",
       "      <td>4.65</td>\n",
       "      <td>NaN</td>\n",
       "      <td>None</td>\n",
       "      <td>249</td>\n",
       "      <td>140</td>\n",
       "      <td>0</td>\n",
       "      <td>...</td>\n",
       "      <td>4.84</td>\n",
       "      <td>0.0</td>\n",
       "      <td>1.0</td>\n",
       "      <td>29.06</td>\n",
       "      <td>NaN</td>\n",
       "      <td>NaN</td>\n",
       "      <td>2023-02-28 23:46:00</td>\n",
       "      <td>2023-03-01 00:05:00</td>\n",
       "      <td>19.000000</td>\n",
       "      <td>249_140</td>\n",
       "    </tr>\n",
       "    <tr>\n",
       "      <th>2913951</th>\n",
       "      <td>2</td>\n",
       "      <td>2023-02-28 23:26:02</td>\n",
       "      <td>2023-02-28 23:37:10</td>\n",
       "      <td>NaN</td>\n",
       "      <td>2.47</td>\n",
       "      <td>NaN</td>\n",
       "      <td>None</td>\n",
       "      <td>186</td>\n",
       "      <td>79</td>\n",
       "      <td>0</td>\n",
       "      <td>...</td>\n",
       "      <td>2.65</td>\n",
       "      <td>0.0</td>\n",
       "      <td>1.0</td>\n",
       "      <td>20.31</td>\n",
       "      <td>NaN</td>\n",
       "      <td>NaN</td>\n",
       "      <td>2023-02-28 23:26:02</td>\n",
       "      <td>2023-02-28 23:37:10</td>\n",
       "      <td>11.133333</td>\n",
       "      <td>186_79</td>\n",
       "    </tr>\n",
       "    <tr>\n",
       "      <th>2913952</th>\n",
       "      <td>2</td>\n",
       "      <td>2023-02-28 23:24:00</td>\n",
       "      <td>2023-02-28 23:38:00</td>\n",
       "      <td>NaN</td>\n",
       "      <td>3.49</td>\n",
       "      <td>NaN</td>\n",
       "      <td>None</td>\n",
       "      <td>158</td>\n",
       "      <td>143</td>\n",
       "      <td>0</td>\n",
       "      <td>...</td>\n",
       "      <td>0.00</td>\n",
       "      <td>0.0</td>\n",
       "      <td>1.0</td>\n",
       "      <td>21.64</td>\n",
       "      <td>NaN</td>\n",
       "      <td>NaN</td>\n",
       "      <td>2023-02-28 23:24:00</td>\n",
       "      <td>2023-02-28 23:38:00</td>\n",
       "      <td>14.000000</td>\n",
       "      <td>158_143</td>\n",
       "    </tr>\n",
       "    <tr>\n",
       "      <th>2913953</th>\n",
       "      <td>2</td>\n",
       "      <td>2023-02-28 23:03:00</td>\n",
       "      <td>2023-02-28 23:10:00</td>\n",
       "      <td>NaN</td>\n",
       "      <td>2.13</td>\n",
       "      <td>NaN</td>\n",
       "      <td>None</td>\n",
       "      <td>79</td>\n",
       "      <td>162</td>\n",
       "      <td>0</td>\n",
       "      <td>...</td>\n",
       "      <td>2.63</td>\n",
       "      <td>0.0</td>\n",
       "      <td>1.0</td>\n",
       "      <td>20.19</td>\n",
       "      <td>NaN</td>\n",
       "      <td>NaN</td>\n",
       "      <td>2023-02-28 23:03:00</td>\n",
       "      <td>2023-02-28 23:10:00</td>\n",
       "      <td>7.000000</td>\n",
       "      <td>79_162</td>\n",
       "    </tr>\n",
       "    <tr>\n",
       "      <th>2913954</th>\n",
       "      <td>2</td>\n",
       "      <td>2023-02-28 23:03:03</td>\n",
       "      <td>2023-02-28 23:12:51</td>\n",
       "      <td>NaN</td>\n",
       "      <td>2.28</td>\n",
       "      <td>NaN</td>\n",
       "      <td>None</td>\n",
       "      <td>161</td>\n",
       "      <td>140</td>\n",
       "      <td>0</td>\n",
       "      <td>...</td>\n",
       "      <td>3.78</td>\n",
       "      <td>0.0</td>\n",
       "      <td>1.0</td>\n",
       "      <td>22.67</td>\n",
       "      <td>NaN</td>\n",
       "      <td>NaN</td>\n",
       "      <td>2023-02-28 23:03:03</td>\n",
       "      <td>2023-02-28 23:12:51</td>\n",
       "      <td>9.800000</td>\n",
       "      <td>161_140</td>\n",
       "    </tr>\n",
       "  </tbody>\n",
       "</table>\n",
       "<p>2855951 rows × 23 columns</p>\n",
       "</div>"
      ],
      "text/plain": [
       "         VendorID tpep_pickup_datetime tpep_dropoff_datetime  passenger_count  \\\n",
       "0               1  2023-02-01 00:32:53   2023-02-01 00:34:34              2.0   \n",
       "3               1  2023-02-01 00:29:33   2023-02-01 01:01:38              0.0   \n",
       "4               2  2023-02-01 00:12:28   2023-02-01 00:25:46              1.0   \n",
       "5               1  2023-02-01 00:52:40   2023-02-01 01:07:18              1.0   \n",
       "6               1  2023-02-01 00:12:39   2023-02-01 00:40:36              1.0   \n",
       "...           ...                  ...                   ...              ...   \n",
       "2913950         2  2023-02-28 23:46:00   2023-03-01 00:05:00              NaN   \n",
       "2913951         2  2023-02-28 23:26:02   2023-02-28 23:37:10              NaN   \n",
       "2913952         2  2023-02-28 23:24:00   2023-02-28 23:38:00              NaN   \n",
       "2913953         2  2023-02-28 23:03:00   2023-02-28 23:10:00              NaN   \n",
       "2913954         2  2023-02-28 23:03:03   2023-02-28 23:12:51              NaN   \n",
       "\n",
       "         trip_distance  RatecodeID store_and_fwd_flag PULocationID  \\\n",
       "0                 0.30         1.0                  N          142   \n",
       "3                18.80         1.0                  N          132   \n",
       "4                 3.22         1.0                  N          161   \n",
       "5                 5.10         1.0                  N          148   \n",
       "6                 8.90         1.0                  N          137   \n",
       "...                ...         ...                ...          ...   \n",
       "2913950           4.65         NaN               None          249   \n",
       "2913951           2.47         NaN               None          186   \n",
       "2913952           3.49         NaN               None          158   \n",
       "2913953           2.13         NaN               None           79   \n",
       "2913954           2.28         NaN               None          161   \n",
       "\n",
       "        DOLocationID  payment_type  ...  tip_amount  tolls_amount  \\\n",
       "0                163             2  ...        0.00           0.0   \n",
       "3                 26             1  ...        0.00           0.0   \n",
       "4                145             1  ...        3.30           0.0   \n",
       "5                236             1  ...        5.35           0.0   \n",
       "6                244             1  ...        3.50           0.0   \n",
       "...              ...           ...  ...         ...           ...   \n",
       "2913950          140             0  ...        4.84           0.0   \n",
       "2913951           79             0  ...        2.65           0.0   \n",
       "2913952          143             0  ...        0.00           0.0   \n",
       "2913953          162             0  ...        2.63           0.0   \n",
       "2913954          140             0  ...        3.78           0.0   \n",
       "\n",
       "         improvement_surcharge  total_amount  congestion_surcharge  \\\n",
       "0                          1.0          9.40                   2.5   \n",
       "3                          1.0         74.65                   0.0   \n",
       "4                          1.0         25.30                   2.5   \n",
       "5                          1.0         32.25                   2.5   \n",
       "6                          1.0         50.00                   2.5   \n",
       "...                        ...           ...                   ...   \n",
       "2913950                    1.0         29.06                   NaN   \n",
       "2913951                    1.0         20.31                   NaN   \n",
       "2913952                    1.0         21.64                   NaN   \n",
       "2913953                    1.0         20.19                   NaN   \n",
       "2913954                    1.0         22.67                   NaN   \n",
       "\n",
       "         Airport_fee  lpep_pickup_datetime  lpep_dropoff_datetime   duration  \\\n",
       "0               0.00   2023-02-01 00:32:53    2023-02-01 00:34:34   1.683333   \n",
       "3               1.25   2023-02-01 00:29:33    2023-02-01 01:01:38  32.083333   \n",
       "4               0.00   2023-02-01 00:12:28    2023-02-01 00:25:46  13.300000   \n",
       "5               0.00   2023-02-01 00:52:40    2023-02-01 01:07:18  14.633333   \n",
       "6               0.00   2023-02-01 00:12:39    2023-02-01 00:40:36  27.950000   \n",
       "...              ...                   ...                    ...        ...   \n",
       "2913950          NaN   2023-02-28 23:46:00    2023-03-01 00:05:00  19.000000   \n",
       "2913951          NaN   2023-02-28 23:26:02    2023-02-28 23:37:10  11.133333   \n",
       "2913952          NaN   2023-02-28 23:24:00    2023-02-28 23:38:00  14.000000   \n",
       "2913953          NaN   2023-02-28 23:03:00    2023-02-28 23:10:00   7.000000   \n",
       "2913954          NaN   2023-02-28 23:03:03    2023-02-28 23:12:51   9.800000   \n",
       "\n",
       "           PU_DO  \n",
       "0        142_163  \n",
       "3         132_26  \n",
       "4        161_145  \n",
       "5        148_236  \n",
       "6        137_244  \n",
       "...          ...  \n",
       "2913950  249_140  \n",
       "2913951   186_79  \n",
       "2913952  158_143  \n",
       "2913953   79_162  \n",
       "2913954  161_140  \n",
       "\n",
       "[2855951 rows x 23 columns]"
      ]
     },
     "execution_count": 11,
     "metadata": {},
     "output_type": "execute_result"
    }
   ],
   "source": [
    "df_val"
   ]
  },
  {
   "cell_type": "code",
   "execution_count": 188,
   "id": "ccaaca65-c51a-46fe-881b-845319c18fb7",
   "metadata": {},
   "outputs": [
    {
     "ename": "KeyError",
     "evalue": "'duration'",
     "output_type": "error",
     "traceback": [
      "\u001b[0;31m---------------------------------------------------------------------------\u001b[0m",
      "\u001b[0;31mKeyError\u001b[0m                                  Traceback (most recent call last)",
      "File \u001b[0;32m~/anaconda3/lib/python3.11/site-packages/pandas/core/indexes/base.py:3791\u001b[0m, in \u001b[0;36mIndex.get_loc\u001b[0;34m(self, key)\u001b[0m\n\u001b[1;32m   3790\u001b[0m \u001b[38;5;28;01mtry\u001b[39;00m:\n\u001b[0;32m-> 3791\u001b[0m     \u001b[38;5;28;01mreturn\u001b[39;00m \u001b[38;5;28mself\u001b[39m\u001b[38;5;241m.\u001b[39m_engine\u001b[38;5;241m.\u001b[39mget_loc(casted_key)\n\u001b[1;32m   3792\u001b[0m \u001b[38;5;28;01mexcept\u001b[39;00m \u001b[38;5;167;01mKeyError\u001b[39;00m \u001b[38;5;28;01mas\u001b[39;00m err:\n",
      "File \u001b[0;32mindex.pyx:152\u001b[0m, in \u001b[0;36mpandas._libs.index.IndexEngine.get_loc\u001b[0;34m()\u001b[0m\n",
      "File \u001b[0;32mindex.pyx:181\u001b[0m, in \u001b[0;36mpandas._libs.index.IndexEngine.get_loc\u001b[0;34m()\u001b[0m\n",
      "File \u001b[0;32mpandas/_libs/hashtable_class_helper.pxi:7080\u001b[0m, in \u001b[0;36mpandas._libs.hashtable.PyObjectHashTable.get_item\u001b[0;34m()\u001b[0m\n",
      "File \u001b[0;32mpandas/_libs/hashtable_class_helper.pxi:7088\u001b[0m, in \u001b[0;36mpandas._libs.hashtable.PyObjectHashTable.get_item\u001b[0;34m()\u001b[0m\n",
      "\u001b[0;31mKeyError\u001b[0m: 'duration'",
      "\nThe above exception was the direct cause of the following exception:\n",
      "\u001b[0;31mKeyError\u001b[0m                                  Traceback (most recent call last)",
      "Cell \u001b[0;32mIn[188], line 1\u001b[0m\n\u001b[0;32m----> 1\u001b[0m df[\u001b[38;5;124m'\u001b[39m\u001b[38;5;124mduration\u001b[39m\u001b[38;5;124m'\u001b[39m]\u001b[38;5;241m.\u001b[39miloc[\u001b[38;5;241m0\u001b[39m]\u001b[38;5;241m.\u001b[39mtotal_seconds()\u001b[38;5;241m/\u001b[39m\u001b[38;5;241m60\u001b[39m\n",
      "File \u001b[0;32m~/anaconda3/lib/python3.11/site-packages/pandas/core/frame.py:3893\u001b[0m, in \u001b[0;36mDataFrame.__getitem__\u001b[0;34m(self, key)\u001b[0m\n\u001b[1;32m   3891\u001b[0m \u001b[38;5;28;01mif\u001b[39;00m \u001b[38;5;28mself\u001b[39m\u001b[38;5;241m.\u001b[39mcolumns\u001b[38;5;241m.\u001b[39mnlevels \u001b[38;5;241m>\u001b[39m \u001b[38;5;241m1\u001b[39m:\n\u001b[1;32m   3892\u001b[0m     \u001b[38;5;28;01mreturn\u001b[39;00m \u001b[38;5;28mself\u001b[39m\u001b[38;5;241m.\u001b[39m_getitem_multilevel(key)\n\u001b[0;32m-> 3893\u001b[0m indexer \u001b[38;5;241m=\u001b[39m \u001b[38;5;28mself\u001b[39m\u001b[38;5;241m.\u001b[39mcolumns\u001b[38;5;241m.\u001b[39mget_loc(key)\n\u001b[1;32m   3894\u001b[0m \u001b[38;5;28;01mif\u001b[39;00m is_integer(indexer):\n\u001b[1;32m   3895\u001b[0m     indexer \u001b[38;5;241m=\u001b[39m [indexer]\n",
      "File \u001b[0;32m~/anaconda3/lib/python3.11/site-packages/pandas/core/indexes/base.py:3798\u001b[0m, in \u001b[0;36mIndex.get_loc\u001b[0;34m(self, key)\u001b[0m\n\u001b[1;32m   3793\u001b[0m     \u001b[38;5;28;01mif\u001b[39;00m \u001b[38;5;28misinstance\u001b[39m(casted_key, \u001b[38;5;28mslice\u001b[39m) \u001b[38;5;129;01mor\u001b[39;00m (\n\u001b[1;32m   3794\u001b[0m         \u001b[38;5;28misinstance\u001b[39m(casted_key, abc\u001b[38;5;241m.\u001b[39mIterable)\n\u001b[1;32m   3795\u001b[0m         \u001b[38;5;129;01mand\u001b[39;00m \u001b[38;5;28many\u001b[39m(\u001b[38;5;28misinstance\u001b[39m(x, \u001b[38;5;28mslice\u001b[39m) \u001b[38;5;28;01mfor\u001b[39;00m x \u001b[38;5;129;01min\u001b[39;00m casted_key)\n\u001b[1;32m   3796\u001b[0m     ):\n\u001b[1;32m   3797\u001b[0m         \u001b[38;5;28;01mraise\u001b[39;00m InvalidIndexError(key)\n\u001b[0;32m-> 3798\u001b[0m     \u001b[38;5;28;01mraise\u001b[39;00m \u001b[38;5;167;01mKeyError\u001b[39;00m(key) \u001b[38;5;28;01mfrom\u001b[39;00m \u001b[38;5;21;01merr\u001b[39;00m\n\u001b[1;32m   3799\u001b[0m \u001b[38;5;28;01mexcept\u001b[39;00m \u001b[38;5;167;01mTypeError\u001b[39;00m:\n\u001b[1;32m   3800\u001b[0m     \u001b[38;5;66;03m# If we have a listlike key, _check_indexing_error will raise\u001b[39;00m\n\u001b[1;32m   3801\u001b[0m     \u001b[38;5;66;03m#  InvalidIndexError. Otherwise we fall through and re-raise\u001b[39;00m\n\u001b[1;32m   3802\u001b[0m     \u001b[38;5;66;03m#  the TypeError.\u001b[39;00m\n\u001b[1;32m   3803\u001b[0m     \u001b[38;5;28mself\u001b[39m\u001b[38;5;241m.\u001b[39m_check_indexing_error(key)\n",
      "\u001b[0;31mKeyError\u001b[0m: 'duration'"
     ]
    }
   ],
   "source": [
    "df['duration'].iloc[0].total_seconds()/60"
   ]
  },
  {
   "cell_type": "code",
   "execution_count": null,
   "id": "83db9e90-5469-477c-bf0b-546c1e5ce357",
   "metadata": {},
   "outputs": [],
   "source": []
  },
  {
   "cell_type": "code",
   "execution_count": 189,
   "id": "c956d3f8-1e60-4577-bb7b-dcbe235e6a69",
   "metadata": {},
   "outputs": [],
   "source": [
    "#df = df[df.trip_type == 2]"
   ]
  },
  {
   "cell_type": "code",
   "execution_count": 190,
   "id": "96732c26-5a95-40aa-b393-5c3cf643b237",
   "metadata": {},
   "outputs": [
    {
     "ename": "AttributeError",
     "evalue": "'DataFrame' object has no attribute 'duration'",
     "output_type": "error",
     "traceback": [
      "\u001b[0;31m---------------------------------------------------------------------------\u001b[0m",
      "\u001b[0;31mAttributeError\u001b[0m                            Traceback (most recent call last)",
      "\u001b[0;32m/tmp/ipykernel_5224/3426635498.py\u001b[0m in \u001b[0;36m?\u001b[0;34m()\u001b[0m\n\u001b[0;32m----> 1\u001b[0;31m \u001b[0msns\u001b[0m\u001b[0;34m.\u001b[0m\u001b[0mdistplot\u001b[0m\u001b[0;34m(\u001b[0m\u001b[0mdf\u001b[0m\u001b[0;34m.\u001b[0m\u001b[0mduration\u001b[0m\u001b[0;34m)\u001b[0m\u001b[0;34m\u001b[0m\u001b[0;34m\u001b[0m\u001b[0m\n\u001b[0m",
      "\u001b[0;32m~/anaconda3/lib/python3.11/site-packages/pandas/core/generic.py\u001b[0m in \u001b[0;36m?\u001b[0;34m(self, name)\u001b[0m\n\u001b[1;32m   6200\u001b[0m             \u001b[0;32mand\u001b[0m \u001b[0mname\u001b[0m \u001b[0;32mnot\u001b[0m \u001b[0;32min\u001b[0m \u001b[0mself\u001b[0m\u001b[0;34m.\u001b[0m\u001b[0m_accessors\u001b[0m\u001b[0;34m\u001b[0m\u001b[0;34m\u001b[0m\u001b[0m\n\u001b[1;32m   6201\u001b[0m             \u001b[0;32mand\u001b[0m \u001b[0mself\u001b[0m\u001b[0;34m.\u001b[0m\u001b[0m_info_axis\u001b[0m\u001b[0;34m.\u001b[0m\u001b[0m_can_hold_identifiers_and_holds_name\u001b[0m\u001b[0;34m(\u001b[0m\u001b[0mname\u001b[0m\u001b[0;34m)\u001b[0m\u001b[0;34m\u001b[0m\u001b[0;34m\u001b[0m\u001b[0m\n\u001b[1;32m   6202\u001b[0m         ):\n\u001b[1;32m   6203\u001b[0m             \u001b[0;32mreturn\u001b[0m \u001b[0mself\u001b[0m\u001b[0;34m[\u001b[0m\u001b[0mname\u001b[0m\u001b[0;34m]\u001b[0m\u001b[0;34m\u001b[0m\u001b[0;34m\u001b[0m\u001b[0m\n\u001b[0;32m-> 6204\u001b[0;31m         \u001b[0;32mreturn\u001b[0m \u001b[0mobject\u001b[0m\u001b[0;34m.\u001b[0m\u001b[0m__getattribute__\u001b[0m\u001b[0;34m(\u001b[0m\u001b[0mself\u001b[0m\u001b[0;34m,\u001b[0m \u001b[0mname\u001b[0m\u001b[0;34m)\u001b[0m\u001b[0;34m\u001b[0m\u001b[0;34m\u001b[0m\u001b[0m\n\u001b[0m",
      "\u001b[0;31mAttributeError\u001b[0m: 'DataFrame' object has no attribute 'duration'"
     ]
    }
   ],
   "source": [
    "sns.distplot(df.duration)"
   ]
  },
  {
   "cell_type": "code",
   "execution_count": 191,
   "id": "204e3450-a4f6-4020-a14a-a49d53b783f3",
   "metadata": {},
   "outputs": [
    {
     "ename": "AttributeError",
     "evalue": "'DataFrame' object has no attribute 'duration'",
     "output_type": "error",
     "traceback": [
      "\u001b[0;31m---------------------------------------------------------------------------\u001b[0m",
      "\u001b[0;31mAttributeError\u001b[0m                            Traceback (most recent call last)",
      "\u001b[0;32m/tmp/ipykernel_5224/4112883602.py\u001b[0m in \u001b[0;36m?\u001b[0;34m()\u001b[0m\n\u001b[0;32m----> 1\u001b[0;31m \u001b[0mdf\u001b[0m\u001b[0;34m.\u001b[0m\u001b[0mduration\u001b[0m\u001b[0;34m.\u001b[0m\u001b[0mdescribe\u001b[0m\u001b[0;34m(\u001b[0m\u001b[0mpercentiles\u001b[0m \u001b[0;34m=\u001b[0m \u001b[0;34m[\u001b[0m\u001b[0;36m0.95\u001b[0m\u001b[0;34m,\u001b[0m\u001b[0;36m0.98\u001b[0m\u001b[0;34m,\u001b[0m\u001b[0;36m0.99\u001b[0m\u001b[0;34m]\u001b[0m\u001b[0;34m)\u001b[0m\u001b[0;34m\u001b[0m\u001b[0;34m\u001b[0m\u001b[0m\n\u001b[0m",
      "\u001b[0;32m~/anaconda3/lib/python3.11/site-packages/pandas/core/generic.py\u001b[0m in \u001b[0;36m?\u001b[0;34m(self, name)\u001b[0m\n\u001b[1;32m   6200\u001b[0m             \u001b[0;32mand\u001b[0m \u001b[0mname\u001b[0m \u001b[0;32mnot\u001b[0m \u001b[0;32min\u001b[0m \u001b[0mself\u001b[0m\u001b[0;34m.\u001b[0m\u001b[0m_accessors\u001b[0m\u001b[0;34m\u001b[0m\u001b[0;34m\u001b[0m\u001b[0m\n\u001b[1;32m   6201\u001b[0m             \u001b[0;32mand\u001b[0m \u001b[0mself\u001b[0m\u001b[0;34m.\u001b[0m\u001b[0m_info_axis\u001b[0m\u001b[0;34m.\u001b[0m\u001b[0m_can_hold_identifiers_and_holds_name\u001b[0m\u001b[0;34m(\u001b[0m\u001b[0mname\u001b[0m\u001b[0;34m)\u001b[0m\u001b[0;34m\u001b[0m\u001b[0;34m\u001b[0m\u001b[0m\n\u001b[1;32m   6202\u001b[0m         ):\n\u001b[1;32m   6203\u001b[0m             \u001b[0;32mreturn\u001b[0m \u001b[0mself\u001b[0m\u001b[0;34m[\u001b[0m\u001b[0mname\u001b[0m\u001b[0;34m]\u001b[0m\u001b[0;34m\u001b[0m\u001b[0;34m\u001b[0m\u001b[0m\n\u001b[0;32m-> 6204\u001b[0;31m         \u001b[0;32mreturn\u001b[0m \u001b[0mobject\u001b[0m\u001b[0;34m.\u001b[0m\u001b[0m__getattribute__\u001b[0m\u001b[0;34m(\u001b[0m\u001b[0mself\u001b[0m\u001b[0;34m,\u001b[0m \u001b[0mname\u001b[0m\u001b[0;34m)\u001b[0m\u001b[0;34m\u001b[0m\u001b[0;34m\u001b[0m\u001b[0m\n\u001b[0m",
      "\u001b[0;31mAttributeError\u001b[0m: 'DataFrame' object has no attribute 'duration'"
     ]
    }
   ],
   "source": [
    "df.duration.describe(percentiles = [0.95,0.98,0.99])"
   ]
  },
  {
   "cell_type": "code",
   "execution_count": 192,
   "id": "e34ae561-5f91-4471-9038-55fa73e90362",
   "metadata": {},
   "outputs": [
    {
     "data": {
      "text/html": [
       "<div>\n",
       "<style scoped>\n",
       "    .dataframe tbody tr th:only-of-type {\n",
       "        vertical-align: middle;\n",
       "    }\n",
       "\n",
       "    .dataframe tbody tr th {\n",
       "        vertical-align: top;\n",
       "    }\n",
       "\n",
       "    .dataframe thead th {\n",
       "        text-align: right;\n",
       "    }\n",
       "</style>\n",
       "<table border=\"1\" class=\"dataframe\">\n",
       "  <thead>\n",
       "    <tr style=\"text-align: right;\">\n",
       "      <th></th>\n",
       "      <th>VendorID</th>\n",
       "      <th>lpep_pickup_datetime</th>\n",
       "      <th>lpep_dropoff_datetime</th>\n",
       "      <th>store_and_fwd_flag</th>\n",
       "      <th>RatecodeID</th>\n",
       "      <th>PULocationID</th>\n",
       "      <th>DOLocationID</th>\n",
       "      <th>passenger_count</th>\n",
       "      <th>trip_distance</th>\n",
       "      <th>fare_amount</th>\n",
       "      <th>...</th>\n",
       "      <th>tip_amount</th>\n",
       "      <th>tolls_amount</th>\n",
       "      <th>ehail_fee</th>\n",
       "      <th>improvement_surcharge</th>\n",
       "      <th>total_amount</th>\n",
       "      <th>payment_type</th>\n",
       "      <th>trip_type</th>\n",
       "      <th>congestion_surcharge</th>\n",
       "      <th>duration</th>\n",
       "      <th>PU_DO</th>\n",
       "    </tr>\n",
       "  </thead>\n",
       "  <tbody>\n",
       "    <tr>\n",
       "      <th>0</th>\n",
       "      <td>2</td>\n",
       "      <td>2021-02-01 00:34:03</td>\n",
       "      <td>2021-02-01 00:51:58</td>\n",
       "      <td>N</td>\n",
       "      <td>1.0</td>\n",
       "      <td>130</td>\n",
       "      <td>205</td>\n",
       "      <td>5.0</td>\n",
       "      <td>3.66</td>\n",
       "      <td>14.00</td>\n",
       "      <td>...</td>\n",
       "      <td>10.00</td>\n",
       "      <td>0.0</td>\n",
       "      <td>None</td>\n",
       "      <td>0.3</td>\n",
       "      <td>25.30</td>\n",
       "      <td>1.0</td>\n",
       "      <td>1.0</td>\n",
       "      <td>0.00</td>\n",
       "      <td>17.916667</td>\n",
       "      <td>130_205</td>\n",
       "    </tr>\n",
       "    <tr>\n",
       "      <th>1</th>\n",
       "      <td>2</td>\n",
       "      <td>2021-02-01 00:04:00</td>\n",
       "      <td>2021-02-01 00:10:30</td>\n",
       "      <td>N</td>\n",
       "      <td>1.0</td>\n",
       "      <td>152</td>\n",
       "      <td>244</td>\n",
       "      <td>1.0</td>\n",
       "      <td>1.10</td>\n",
       "      <td>6.50</td>\n",
       "      <td>...</td>\n",
       "      <td>0.00</td>\n",
       "      <td>0.0</td>\n",
       "      <td>None</td>\n",
       "      <td>0.3</td>\n",
       "      <td>7.80</td>\n",
       "      <td>2.0</td>\n",
       "      <td>1.0</td>\n",
       "      <td>0.00</td>\n",
       "      <td>6.500000</td>\n",
       "      <td>152_244</td>\n",
       "    </tr>\n",
       "    <tr>\n",
       "      <th>2</th>\n",
       "      <td>2</td>\n",
       "      <td>2021-02-01 00:18:51</td>\n",
       "      <td>2021-02-01 00:34:06</td>\n",
       "      <td>N</td>\n",
       "      <td>1.0</td>\n",
       "      <td>152</td>\n",
       "      <td>48</td>\n",
       "      <td>1.0</td>\n",
       "      <td>4.93</td>\n",
       "      <td>16.50</td>\n",
       "      <td>...</td>\n",
       "      <td>0.00</td>\n",
       "      <td>0.0</td>\n",
       "      <td>None</td>\n",
       "      <td>0.3</td>\n",
       "      <td>20.55</td>\n",
       "      <td>2.0</td>\n",
       "      <td>1.0</td>\n",
       "      <td>2.75</td>\n",
       "      <td>15.250000</td>\n",
       "      <td>152_48</td>\n",
       "    </tr>\n",
       "    <tr>\n",
       "      <th>3</th>\n",
       "      <td>2</td>\n",
       "      <td>2021-02-01 00:53:27</td>\n",
       "      <td>2021-02-01 01:11:41</td>\n",
       "      <td>N</td>\n",
       "      <td>1.0</td>\n",
       "      <td>152</td>\n",
       "      <td>241</td>\n",
       "      <td>1.0</td>\n",
       "      <td>6.70</td>\n",
       "      <td>21.00</td>\n",
       "      <td>...</td>\n",
       "      <td>0.00</td>\n",
       "      <td>0.0</td>\n",
       "      <td>None</td>\n",
       "      <td>0.3</td>\n",
       "      <td>22.30</td>\n",
       "      <td>2.0</td>\n",
       "      <td>1.0</td>\n",
       "      <td>0.00</td>\n",
       "      <td>18.233333</td>\n",
       "      <td>152_241</td>\n",
       "    </tr>\n",
       "    <tr>\n",
       "      <th>4</th>\n",
       "      <td>2</td>\n",
       "      <td>2021-02-01 00:57:46</td>\n",
       "      <td>2021-02-01 01:06:44</td>\n",
       "      <td>N</td>\n",
       "      <td>1.0</td>\n",
       "      <td>75</td>\n",
       "      <td>42</td>\n",
       "      <td>1.0</td>\n",
       "      <td>1.89</td>\n",
       "      <td>8.50</td>\n",
       "      <td>...</td>\n",
       "      <td>2.45</td>\n",
       "      <td>0.0</td>\n",
       "      <td>None</td>\n",
       "      <td>0.3</td>\n",
       "      <td>12.25</td>\n",
       "      <td>1.0</td>\n",
       "      <td>1.0</td>\n",
       "      <td>0.00</td>\n",
       "      <td>8.966667</td>\n",
       "      <td>75_42</td>\n",
       "    </tr>\n",
       "    <tr>\n",
       "      <th>...</th>\n",
       "      <td>...</td>\n",
       "      <td>...</td>\n",
       "      <td>...</td>\n",
       "      <td>...</td>\n",
       "      <td>...</td>\n",
       "      <td>...</td>\n",
       "      <td>...</td>\n",
       "      <td>...</td>\n",
       "      <td>...</td>\n",
       "      <td>...</td>\n",
       "      <td>...</td>\n",
       "      <td>...</td>\n",
       "      <td>...</td>\n",
       "      <td>...</td>\n",
       "      <td>...</td>\n",
       "      <td>...</td>\n",
       "      <td>...</td>\n",
       "      <td>...</td>\n",
       "      <td>...</td>\n",
       "      <td>...</td>\n",
       "      <td>...</td>\n",
       "    </tr>\n",
       "    <tr>\n",
       "      <th>64567</th>\n",
       "      <td>2</td>\n",
       "      <td>2021-02-28 22:19:00</td>\n",
       "      <td>2021-02-28 22:29:00</td>\n",
       "      <td>None</td>\n",
       "      <td>NaN</td>\n",
       "      <td>129</td>\n",
       "      <td>7</td>\n",
       "      <td>NaN</td>\n",
       "      <td>2.63</td>\n",
       "      <td>10.04</td>\n",
       "      <td>...</td>\n",
       "      <td>0.00</td>\n",
       "      <td>0.0</td>\n",
       "      <td>None</td>\n",
       "      <td>0.3</td>\n",
       "      <td>10.34</td>\n",
       "      <td>NaN</td>\n",
       "      <td>NaN</td>\n",
       "      <td>NaN</td>\n",
       "      <td>10.000000</td>\n",
       "      <td>129_7</td>\n",
       "    </tr>\n",
       "    <tr>\n",
       "      <th>64568</th>\n",
       "      <td>2</td>\n",
       "      <td>2021-02-28 23:18:00</td>\n",
       "      <td>2021-02-28 23:27:00</td>\n",
       "      <td>None</td>\n",
       "      <td>NaN</td>\n",
       "      <td>116</td>\n",
       "      <td>166</td>\n",
       "      <td>NaN</td>\n",
       "      <td>1.87</td>\n",
       "      <td>8.33</td>\n",
       "      <td>...</td>\n",
       "      <td>1.89</td>\n",
       "      <td>0.0</td>\n",
       "      <td>None</td>\n",
       "      <td>0.3</td>\n",
       "      <td>10.52</td>\n",
       "      <td>NaN</td>\n",
       "      <td>NaN</td>\n",
       "      <td>NaN</td>\n",
       "      <td>9.000000</td>\n",
       "      <td>116_166</td>\n",
       "    </tr>\n",
       "    <tr>\n",
       "      <th>64569</th>\n",
       "      <td>2</td>\n",
       "      <td>2021-02-28 23:44:00</td>\n",
       "      <td>2021-02-28 23:58:00</td>\n",
       "      <td>None</td>\n",
       "      <td>NaN</td>\n",
       "      <td>74</td>\n",
       "      <td>151</td>\n",
       "      <td>NaN</td>\n",
       "      <td>2.40</td>\n",
       "      <td>12.61</td>\n",
       "      <td>...</td>\n",
       "      <td>0.00</td>\n",
       "      <td>0.0</td>\n",
       "      <td>None</td>\n",
       "      <td>0.3</td>\n",
       "      <td>12.91</td>\n",
       "      <td>NaN</td>\n",
       "      <td>NaN</td>\n",
       "      <td>NaN</td>\n",
       "      <td>14.000000</td>\n",
       "      <td>74_151</td>\n",
       "    </tr>\n",
       "    <tr>\n",
       "      <th>64570</th>\n",
       "      <td>2</td>\n",
       "      <td>2021-02-28 23:07:00</td>\n",
       "      <td>2021-02-28 23:14:00</td>\n",
       "      <td>None</td>\n",
       "      <td>NaN</td>\n",
       "      <td>42</td>\n",
       "      <td>42</td>\n",
       "      <td>NaN</td>\n",
       "      <td>1.11</td>\n",
       "      <td>11.95</td>\n",
       "      <td>...</td>\n",
       "      <td>0.00</td>\n",
       "      <td>0.0</td>\n",
       "      <td>None</td>\n",
       "      <td>0.3</td>\n",
       "      <td>15.00</td>\n",
       "      <td>NaN</td>\n",
       "      <td>NaN</td>\n",
       "      <td>NaN</td>\n",
       "      <td>7.000000</td>\n",
       "      <td>42_42</td>\n",
       "    </tr>\n",
       "    <tr>\n",
       "      <th>64571</th>\n",
       "      <td>2</td>\n",
       "      <td>2021-02-28 23:43:00</td>\n",
       "      <td>2021-02-28 23:50:00</td>\n",
       "      <td>None</td>\n",
       "      <td>NaN</td>\n",
       "      <td>42</td>\n",
       "      <td>41</td>\n",
       "      <td>NaN</td>\n",
       "      <td>1.40</td>\n",
       "      <td>8.21</td>\n",
       "      <td>...</td>\n",
       "      <td>0.00</td>\n",
       "      <td>0.0</td>\n",
       "      <td>None</td>\n",
       "      <td>0.3</td>\n",
       "      <td>8.51</td>\n",
       "      <td>NaN</td>\n",
       "      <td>NaN</td>\n",
       "      <td>NaN</td>\n",
       "      <td>7.000000</td>\n",
       "      <td>42_41</td>\n",
       "    </tr>\n",
       "  </tbody>\n",
       "</table>\n",
       "<p>61921 rows × 22 columns</p>\n",
       "</div>"
      ],
      "text/plain": [
       "       VendorID lpep_pickup_datetime lpep_dropoff_datetime store_and_fwd_flag  \\\n",
       "0             2  2021-02-01 00:34:03   2021-02-01 00:51:58                  N   \n",
       "1             2  2021-02-01 00:04:00   2021-02-01 00:10:30                  N   \n",
       "2             2  2021-02-01 00:18:51   2021-02-01 00:34:06                  N   \n",
       "3             2  2021-02-01 00:53:27   2021-02-01 01:11:41                  N   \n",
       "4             2  2021-02-01 00:57:46   2021-02-01 01:06:44                  N   \n",
       "...         ...                  ...                   ...                ...   \n",
       "64567         2  2021-02-28 22:19:00   2021-02-28 22:29:00               None   \n",
       "64568         2  2021-02-28 23:18:00   2021-02-28 23:27:00               None   \n",
       "64569         2  2021-02-28 23:44:00   2021-02-28 23:58:00               None   \n",
       "64570         2  2021-02-28 23:07:00   2021-02-28 23:14:00               None   \n",
       "64571         2  2021-02-28 23:43:00   2021-02-28 23:50:00               None   \n",
       "\n",
       "       RatecodeID PULocationID DOLocationID  passenger_count  trip_distance  \\\n",
       "0             1.0          130          205              5.0           3.66   \n",
       "1             1.0          152          244              1.0           1.10   \n",
       "2             1.0          152           48              1.0           4.93   \n",
       "3             1.0          152          241              1.0           6.70   \n",
       "4             1.0           75           42              1.0           1.89   \n",
       "...           ...          ...          ...              ...            ...   \n",
       "64567         NaN          129            7              NaN           2.63   \n",
       "64568         NaN          116          166              NaN           1.87   \n",
       "64569         NaN           74          151              NaN           2.40   \n",
       "64570         NaN           42           42              NaN           1.11   \n",
       "64571         NaN           42           41              NaN           1.40   \n",
       "\n",
       "       fare_amount  ...  tip_amount  tolls_amount  ehail_fee  \\\n",
       "0            14.00  ...       10.00           0.0       None   \n",
       "1             6.50  ...        0.00           0.0       None   \n",
       "2            16.50  ...        0.00           0.0       None   \n",
       "3            21.00  ...        0.00           0.0       None   \n",
       "4             8.50  ...        2.45           0.0       None   \n",
       "...            ...  ...         ...           ...        ...   \n",
       "64567        10.04  ...        0.00           0.0       None   \n",
       "64568         8.33  ...        1.89           0.0       None   \n",
       "64569        12.61  ...        0.00           0.0       None   \n",
       "64570        11.95  ...        0.00           0.0       None   \n",
       "64571         8.21  ...        0.00           0.0       None   \n",
       "\n",
       "       improvement_surcharge total_amount  payment_type  trip_type  \\\n",
       "0                        0.3        25.30           1.0        1.0   \n",
       "1                        0.3         7.80           2.0        1.0   \n",
       "2                        0.3        20.55           2.0        1.0   \n",
       "3                        0.3        22.30           2.0        1.0   \n",
       "4                        0.3        12.25           1.0        1.0   \n",
       "...                      ...          ...           ...        ...   \n",
       "64567                    0.3        10.34           NaN        NaN   \n",
       "64568                    0.3        10.52           NaN        NaN   \n",
       "64569                    0.3        12.91           NaN        NaN   \n",
       "64570                    0.3        15.00           NaN        NaN   \n",
       "64571                    0.3         8.51           NaN        NaN   \n",
       "\n",
       "       congestion_surcharge   duration    PU_DO  \n",
       "0                      0.00  17.916667  130_205  \n",
       "1                      0.00   6.500000  152_244  \n",
       "2                      2.75  15.250000   152_48  \n",
       "3                      0.00  18.233333  152_241  \n",
       "4                      0.00   8.966667    75_42  \n",
       "...                     ...        ...      ...  \n",
       "64567                   NaN  10.000000    129_7  \n",
       "64568                   NaN   9.000000  116_166  \n",
       "64569                   NaN  14.000000   74_151  \n",
       "64570                   NaN   7.000000    42_42  \n",
       "64571                   NaN   7.000000    42_41  \n",
       "\n",
       "[61921 rows x 22 columns]"
      ]
     },
     "execution_count": 192,
     "metadata": {},
     "output_type": "execute_result"
    }
   ],
   "source": [
    "df_val"
   ]
  },
  {
   "cell_type": "code",
   "execution_count": 193,
   "id": "75215d53-52bc-4616-baa8-2c5f9f17a0d5",
   "metadata": {},
   "outputs": [
    {
     "ename": "AttributeError",
     "evalue": "'DataFrame' object has no attribute 'duration'",
     "output_type": "error",
     "traceback": [
      "\u001b[0;31m---------------------------------------------------------------------------\u001b[0m",
      "\u001b[0;31mAttributeError\u001b[0m                            Traceback (most recent call last)",
      "\u001b[0;32m/tmp/ipykernel_5224/3426635498.py\u001b[0m in \u001b[0;36m?\u001b[0;34m()\u001b[0m\n\u001b[0;32m----> 1\u001b[0;31m \u001b[0msns\u001b[0m\u001b[0;34m.\u001b[0m\u001b[0mdistplot\u001b[0m\u001b[0;34m(\u001b[0m\u001b[0mdf\u001b[0m\u001b[0;34m.\u001b[0m\u001b[0mduration\u001b[0m\u001b[0;34m)\u001b[0m\u001b[0;34m\u001b[0m\u001b[0;34m\u001b[0m\u001b[0m\n\u001b[0m",
      "\u001b[0;32m~/anaconda3/lib/python3.11/site-packages/pandas/core/generic.py\u001b[0m in \u001b[0;36m?\u001b[0;34m(self, name)\u001b[0m\n\u001b[1;32m   6200\u001b[0m             \u001b[0;32mand\u001b[0m \u001b[0mname\u001b[0m \u001b[0;32mnot\u001b[0m \u001b[0;32min\u001b[0m \u001b[0mself\u001b[0m\u001b[0;34m.\u001b[0m\u001b[0m_accessors\u001b[0m\u001b[0;34m\u001b[0m\u001b[0;34m\u001b[0m\u001b[0m\n\u001b[1;32m   6201\u001b[0m             \u001b[0;32mand\u001b[0m \u001b[0mself\u001b[0m\u001b[0;34m.\u001b[0m\u001b[0m_info_axis\u001b[0m\u001b[0;34m.\u001b[0m\u001b[0m_can_hold_identifiers_and_holds_name\u001b[0m\u001b[0;34m(\u001b[0m\u001b[0mname\u001b[0m\u001b[0;34m)\u001b[0m\u001b[0;34m\u001b[0m\u001b[0;34m\u001b[0m\u001b[0m\n\u001b[1;32m   6202\u001b[0m         ):\n\u001b[1;32m   6203\u001b[0m             \u001b[0;32mreturn\u001b[0m \u001b[0mself\u001b[0m\u001b[0;34m[\u001b[0m\u001b[0mname\u001b[0m\u001b[0;34m]\u001b[0m\u001b[0;34m\u001b[0m\u001b[0;34m\u001b[0m\u001b[0m\n\u001b[0;32m-> 6204\u001b[0;31m         \u001b[0;32mreturn\u001b[0m \u001b[0mobject\u001b[0m\u001b[0;34m.\u001b[0m\u001b[0m__getattribute__\u001b[0m\u001b[0;34m(\u001b[0m\u001b[0mself\u001b[0m\u001b[0;34m,\u001b[0m \u001b[0mname\u001b[0m\u001b[0;34m)\u001b[0m\u001b[0;34m\u001b[0m\u001b[0;34m\u001b[0m\u001b[0m\n\u001b[0m",
      "\u001b[0;31mAttributeError\u001b[0m: 'DataFrame' object has no attribute 'duration'"
     ]
    }
   ],
   "source": [
    "sns.distplot(df.duration)"
   ]
  },
  {
   "cell_type": "code",
   "execution_count": 194,
   "id": "540fbb18-b6e2-49c2-a58a-23c7f2216c87",
   "metadata": {},
   "outputs": [
    {
     "data": {
      "text/plain": [
       "VendorID                          int64\n",
       "lpep_pickup_datetime     datetime64[us]\n",
       "lpep_dropoff_datetime    datetime64[us]\n",
       "store_and_fwd_flag               object\n",
       "RatecodeID                      float64\n",
       "PULocationID                      int64\n",
       "DOLocationID                      int64\n",
       "passenger_count                 float64\n",
       "trip_distance                   float64\n",
       "fare_amount                     float64\n",
       "extra                           float64\n",
       "mta_tax                         float64\n",
       "tip_amount                      float64\n",
       "tolls_amount                    float64\n",
       "ehail_fee                        object\n",
       "improvement_surcharge           float64\n",
       "total_amount                    float64\n",
       "payment_type                    float64\n",
       "trip_type                       float64\n",
       "congestion_surcharge            float64\n",
       "dtype: object"
      ]
     },
     "execution_count": 194,
     "metadata": {},
     "output_type": "execute_result"
    }
   ],
   "source": [
    "df.dtypes"
   ]
  },
  {
   "cell_type": "code",
   "execution_count": null,
   "id": "06fc40fb-fc0a-4109-b1f9-84af7ab7c032",
   "metadata": {},
   "outputs": [],
   "source": []
  },
  {
   "cell_type": "code",
   "execution_count": null,
   "id": "6f518831-5169-4e20-82de-160e0b0266d3",
   "metadata": {},
   "outputs": [],
   "source": []
  },
  {
   "cell_type": "code",
   "execution_count": 47,
   "id": "d809127c-64cf-4271-b3fc-42f1f4d79d49",
   "metadata": {},
   "outputs": [
    {
     "data": {
      "text/plain": [
       "Index(['VendorID', 'tpep_pickup_datetime', 'tpep_dropoff_datetime',\n",
       "       'passenger_count', 'trip_distance', 'RatecodeID', 'store_and_fwd_flag',\n",
       "       'PULocationID', 'DOLocationID', 'payment_type', 'fare_amount', 'extra',\n",
       "       'mta_tax', 'tip_amount', 'tolls_amount', 'improvement_surcharge',\n",
       "       'total_amount', 'congestion_surcharge', 'airport_fee',\n",
       "       'lpep_pickup_datetime', 'lpep_dropoff_datetime', 'duration', 'PU_DO'],\n",
       "      dtype='object')"
      ]
     },
     "execution_count": 47,
     "metadata": {},
     "output_type": "execute_result"
    }
   ],
   "source": [
    "df_train.columns"
   ]
  },
  {
   "cell_type": "code",
   "execution_count": 48,
   "id": "9df6ab1e-931f-437c-8b8d-47a342eb5d23",
   "metadata": {},
   "outputs": [],
   "source": [
    "categorical = ['PULocationID', 'DOLocationID']#[\"PULocationID\",\"DOLocationID\"]\n",
    "    \n",
    "numerical = [\"trip_distance\"]\n",
    "\n",
    "dv = DictVectorizer()\n",
    "train_dicts = df_train[categorical].to_dict(orient = \"records\")\n",
    "X_train = dv.fit_transform(train_dicts)\n",
    "\n",
    "\n",
    "val_dicts = df_val[categorical].to_dict(orient = \"records\")\n",
    "\n",
    "X_val = dv.transform(val_dicts)\n",
    "\n",
    "\n",
    "\n"
   ]
  },
  {
   "cell_type": "code",
   "execution_count": 51,
   "id": "691fd921-885d-4b63-91ee-7b82b4a52b34",
   "metadata": {},
   "outputs": [
    {
     "data": {
      "text/plain": [
       "<2855951x515 sparse matrix of type '<class 'numpy.float64'>'\n",
       "\twith 5711894 stored elements in Compressed Sparse Row format>"
      ]
     },
     "execution_count": 51,
     "metadata": {},
     "output_type": "execute_result"
    }
   ],
   "source": [
    "X_val"
   ]
  },
  {
   "cell_type": "code",
   "execution_count": 52,
   "id": "2bee9dc4-c48b-48e2-af8a-102d36c4c72a",
   "metadata": {},
   "outputs": [],
   "source": [
    "target = \"duration\"\n",
    "\n",
    "y_train = df_train[target].values\n",
    "y_val = df_val[target].values\n",
    "\n",
    "\n"
   ]
  },
  {
   "cell_type": "code",
   "execution_count": 54,
   "id": "88725702-f407-47bf-98e9-7965615795ff",
   "metadata": {},
   "outputs": [
    {
     "data": {
      "text/plain": [
       "7.649261927665777"
      ]
     },
     "execution_count": 54,
     "metadata": {},
     "output_type": "execute_result"
    }
   ],
   "source": [
    "#lr = Lasso(0.001)\n",
    "lr = LinearRegression()\n",
    "lr.fit(X_train,y_train)\n",
    "y_pred = lr.predict(X_train)\n",
    "mean_squared_error(y_train,y_pred,squared  = False)"
   ]
  },
  {
   "cell_type": "code",
   "execution_count": 53,
   "id": "bc6b544b-f256-4c32-9102-e50e9dca65ea",
   "metadata": {},
   "outputs": [
    {
     "data": {
      "text/plain": [
       "7.811817548344513"
      ]
     },
     "execution_count": 53,
     "metadata": {},
     "output_type": "execute_result"
    }
   ],
   "source": [
    "#lr = Lasso(0.001)\n",
    "lr = LinearRegression()\n",
    "lr.fit(X_train,y_train)\n",
    "y_pred = lr.predict(X_val)\n",
    "mean_squared_error(y_val,y_pred,squared  = False)"
   ]
  },
  {
   "cell_type": "code",
   "execution_count": 203,
   "id": "96c296d6-7355-4dcf-a754-3237aca3f0c6",
   "metadata": {},
   "outputs": [
    {
     "name": "stdout",
     "output_type": "stream",
     "text": [
      "data  duration-prediction.ipynb\n"
     ]
    }
   ],
   "source": [
    "!ls"
   ]
  },
  {
   "cell_type": "code",
   "execution_count": 205,
   "id": "c678e2b9-de32-4365-ba9d-372aed225ed4",
   "metadata": {},
   "outputs": [],
   "source": [
    "with open('models/lasso.bin','wb') as f_out:\n",
    "    pickle.dump((dv,lr),f_out)"
   ]
  },
  {
   "cell_type": "code",
   "execution_count": 181,
   "id": "d1f4f132-a314-4055-94c3-c86334485e7e",
   "metadata": {},
   "outputs": [
    {
     "name": "stderr",
     "output_type": "stream",
     "text": [
      "/tmp/ipykernel_5224/3026314470.py:1: UserWarning: \n",
      "\n",
      "`distplot` is a deprecated function and will be removed in seaborn v0.14.0.\n",
      "\n",
      "Please adapt your code to use either `displot` (a figure-level function with\n",
      "similar flexibility) or `histplot` (an axes-level function for histograms).\n",
      "\n",
      "For a guide to updating your code to use the new functions, please see\n",
      "https://gist.github.com/mwaskom/de44147ed2974457ad6372750bbe5751\n",
      "\n",
      "  sns.distplot(y_pred,label = \"Predicted\")\n",
      "/home/ubuntu/anaconda3/lib/python3.11/site-packages/seaborn/_oldcore.py:1119: FutureWarning: use_inf_as_na option is deprecated and will be removed in a future version. Convert inf values to NaN before operating instead.\n",
      "  with pd.option_context('mode.use_inf_as_na', True):\n",
      "/tmp/ipykernel_5224/3026314470.py:2: UserWarning: \n",
      "\n",
      "`distplot` is a deprecated function and will be removed in seaborn v0.14.0.\n",
      "\n",
      "Please adapt your code to use either `displot` (a figure-level function with\n",
      "similar flexibility) or `histplot` (an axes-level function for histograms).\n",
      "\n",
      "For a guide to updating your code to use the new functions, please see\n",
      "https://gist.github.com/mwaskom/de44147ed2974457ad6372750bbe5751\n",
      "\n",
      "  sns.distplot(y_val,label = \"Actual\")\n",
      "/home/ubuntu/anaconda3/lib/python3.11/site-packages/seaborn/_oldcore.py:1119: FutureWarning: use_inf_as_na option is deprecated and will be removed in a future version. Convert inf values to NaN before operating instead.\n",
      "  with pd.option_context('mode.use_inf_as_na', True):\n"
     ]
    },
    {
     "data": {
      "text/plain": [
       "<matplotlib.legend.Legend at 0x76b638e2fc90>"
      ]
     },
     "execution_count": 181,
     "metadata": {},
     "output_type": "execute_result"
    },
    {
     "data": {
      "image/png": "[encoded data removed]",
      "text/plain": [
       "<Figure size 640x480 with 1 Axes>"
      ]
     },
     "metadata": {},
     "output_type": "display_data"
    }
   ],
   "source": [
    "sns.distplot(y_pred,label = \"Predicted\")\n",
    "sns.distplot(y_val,label = \"Actual\")\n",
    "plt.legend()"
   ]
  },
  {
   "cell_type": "code",
   "execution_count": null,
   "id": "8daac893-4645-4f06-9f10-238c5fe2acc2",
   "metadata": {},
   "outputs": [],
   "source": []
  },
  {
   "cell_type": "code",
   "execution_count": null,
   "id": "a8d7ba57-6232-4b1d-bba0-04f21cfc2222",
   "metadata": {},
   "outputs": [],
   "source": []
  },
  {
   "cell_type": "code",
   "execution_count": null,
   "id": "a1ec3fee-3774-47af-93e1-135dab335fb1",
   "metadata": {},
   "outputs": [],
   "source": []
  },
  {
   "cell_type": "code",
   "execution_count": null,
   "id": "e4528311-93dc-4532-afd3-fd84da8ef9dc",
   "metadata": {},
   "outputs": [],
   "source": []
  }
 ],
 "metadata": {
  "kernelspec": {
   "display_name": "Python 3 (ipykernel)",
   "language": "python",
   "name": "python3"
  },
  "language_info": {
   "codemirror_mode": {
    "name": "ipython",
    "version": 3
   },
   "file_extension": ".py",
   "mimetype": "text/x-python",
   "name": "python",
   "nbconvert_exporter": "python",
   "pygments_lexer": "ipython3",
   "version": "3.11.7"
  }
 },
 "nbformat": 4,
 "nbformat_minor": 5
}
